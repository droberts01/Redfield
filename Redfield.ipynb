{
 "cells": [
  {
   "cell_type": "code",
   "execution_count": 20,
   "metadata": {
    "collapsed": false
   },
   "outputs": [],
   "source": [
    "# REDFIELD.py: Time-Dependent Redfield Solver for D Wave Simulations\n",
    "\n",
    "from qutip import *\n",
    "import csv\n",
    "import numpy as np\n",
    "import matplotlib.pyplot as plt\n",
    "import pandas as pd\n",
    "\n",
    "# Parameters specific to the D Wave 2X onsite.\n",
    "dWaveAnnealingSchedule = pd.read_csv('~/Documents/LANLA/DWaveAnnealingSchedule.csv', sep=',',header=None)\n",
    "annealingParameter = dWaveAnnealingSchedule[0]\n",
    "A = [(10**9)*x for x in dWaveAnnealingSchedule[1]]\n",
    "B = [(10**9)*x for x in dWaveAnnealingSchedule[2]]\n",
    "\n",
    "# Fundamental Constants\n",
    "kB = Quantity[1.38065 10^-23, (\"Joules\")/(\"Kelvins\")];\n",
    "T = Quantity[15.5 10^-3, \"Kelvin\"];\n",
    "hbar = Quantity[6.62607 10^-34, \"Joules\" \"Seconds\"];\n",
    "\\[Beta] = 1/(k T);"
   ]
  },
  {
   "cell_type": "code",
   "execution_count": 32,
   "metadata": {
    "collapsed": false
   },
   "outputs": [],
   "source": [
    "#Define Pauli matrices. e.g. X(actingQubit) is the bit flip operator on actingQubit.\n",
    "\n",
    "def X(actingQubit, numQubits):\n",
    "    qubits = range(numQubits)\n",
    "    if actingQubit >= numQubits:\n",
    "        print \"Error. Pauli matrix over-indexed\"\n",
    "    else:\n",
    "        def XTensor(actingQubit, qubit):\n",
    "            if qubit == actingQubit:\n",
    "                return sigmax()\n",
    "            else: \n",
    "                return identity(2)\n",
    "        return tensor([XTensor(actingQubit, qubit) for qubit in qubits])\n",
    "\n",
    "def Y(actingQubit, numQubits):\n",
    "    qubits = range(numQubits)\n",
    "    if actingQubit >= numQubits:\n",
    "        print \"Error. Pauli matrix over-indexed\"\n",
    "    else:\n",
    "        def YTensor(actingQubit, qubit):\n",
    "            if qubit == actingQubit:\n",
    "                return sigmay()\n",
    "            else: \n",
    "                return identity(2)\n",
    "        return tensor([YTensor(actingQubit, qubit) for qubit in qubits])\n",
    "\n",
    "def Z(actingQubit, numQubits):\n",
    "    qubits = range(numQubits)\n",
    "    if actingQubit >= numQubits:\n",
    "        print \"Error. Pauli matrix over-indexed\"\n",
    "    else:\n",
    "        def ZTensor(actingQubit, qubit):\n",
    "            if qubit == actingQubit:\n",
    "                return sigmaz()\n",
    "            else: \n",
    "                return identity(2)\n",
    "        return tensor([ZTensor(actingQubit, qubit) for qubit in qubits])"
   ]
  },
  {
   "cell_type": "code",
   "execution_count": 54,
   "metadata": {
    "collapsed": false
   },
   "outputs": [],
   "source": [
    "#Define D Wave Hamiltonian\n",
    "def bulkCoupling(J, K, qubitIndex, numQubits):\n",
    "    if qubitIndex >= numQubits - 1:\n",
    "        print \"Error. coupler is over-indexed\"\n",
    "    else:\n",
    "        if numQubits % 2 == 0:\n",
    "            if qubitIndex in [numQubits/2 - 1, numQubits/2]:\n",
    "                return -J\n",
    "            else:\n",
    "                return -K\n",
    "        else:\n",
    "            if qubitIndex in [numQubits/2 - 1, numQubits/2]:\n",
    "                return -J\n",
    "            else:\n",
    "                return -K\n",
    "               \n",
    "def dWaveHamiltonian(s, I, J, K, numQubits):\n",
    "    qubits = range(numQubits)\n",
    "    sRescaled = int(max(0, s*round(len(annealingParameter)) - 1))\n",
    "    bulkTerms = sum([bulkCoupling(J, K, qubit, numQubits)*Z(qubit, numQubits)*Z(qubit + 1, numQubits) for qubit in range(numQubits - 1)])\n",
    "    boundaryTerm = I*Z(qubits[-1], numQubits)*Z(qubits[0], numQubits)\n",
    "    rawProblemHamiltonian = bulkTerms + boundaryTerm\n",
    "    rawDriverHamiltonian = sum([X(qubit, numQubits) for qubit in qubits])\n",
    "    problemHamiltonian = 2*np.pi*(B[sRescaled]/2)*rawProblemHamiltonian\n",
    "    driverHamiltonian = 2*np.pi*(A[sRescaled]/2)*rawDriverHamiltonian\n",
    "    return problemHamiltonian + driverHamiltonian\n",
    "                    \n",
    "# "
   ]
  },
  {
   "cell_type": "code",
   "execution_count": 81,
   "metadata": {
    "collapsed": false
   },
   "outputs": [
    {
     "name": "stdout",
     "output_type": "stream",
     "text": [
      "0.526549816132\n"
     ]
    },
    {
     "data": {
      "text/latex": [
       "Quantum object: dims = [[2, 2, 2, 2, 2, 2, 2, 2, 2, 2, 2, 2, 2, 2, 2], [2, 2, 2, 2, 2, 2, 2, 2, 2, 2, 2, 2, 2, 2, 2]], shape = (32768, 32768), type = oper, isherm = True\\begin{equation*}\\left(\\begin{array}{*{11}c}-1.266\\times10^{+11} & 4.241\\times10^{+09} & 4.241\\times10^{+09} & 0.0 & 4.241\\times10^{+09} & \\cdots & 0.0 & 0.0 & 0.0 & 0.0 & 0.0\\\\4.241\\times10^{+09} & -1.103\\times10^{+11} & 0.0 & 4.241\\times10^{+09} & 0.0 & \\cdots & 0.0 & 0.0 & 0.0 & 0.0 & 0.0\\\\4.241\\times10^{+09} & 0.0 & -8.577\\times10^{+10} & 4.241\\times10^{+09} & 0.0 & \\cdots & 0.0 & 0.0 & 0.0 & 0.0 & 0.0\\\\0.0 & 4.241\\times10^{+09} & 4.241\\times10^{+09} & -1.103\\times10^{+11} & 0.0 & \\cdots & 0.0 & 0.0 & 0.0 & 0.0 & 0.0\\\\4.241\\times10^{+09} & 0.0 & 0.0 & 0.0 & -8.577\\times10^{+10} & \\cdots & 0.0 & 0.0 & 0.0 & 0.0 & 0.0\\\\\\vdots & \\vdots & \\vdots & \\vdots & \\vdots & \\ddots & \\vdots & \\vdots & \\vdots & \\vdots & \\vdots\\\\0.0 & 0.0 & 0.0 & 0.0 & 0.0 & \\cdots & -8.577\\times10^{+10} & 0.0 & 0.0 & 0.0 & 4.241\\times10^{+09}\\\\0.0 & 0.0 & 0.0 & 0.0 & 0.0 & \\cdots & 0.0 & -1.103\\times10^{+11} & 4.241\\times10^{+09} & 4.241\\times10^{+09} & 0.0\\\\0.0 & 0.0 & 0.0 & 0.0 & 0.0 & \\cdots & 0.0 & 4.241\\times10^{+09} & -8.577\\times10^{+10} & 0.0 & 4.241\\times10^{+09}\\\\0.0 & 0.0 & 0.0 & 0.0 & 0.0 & \\cdots & 0.0 & 4.241\\times10^{+09} & 0.0 & -1.103\\times10^{+11} & 4.241\\times10^{+09}\\\\0.0 & 0.0 & 0.0 & 0.0 & 0.0 & \\cdots & 4.241\\times10^{+09} & 0.0 & 4.241\\times10^{+09} & 4.241\\times10^{+09} & -1.266\\times10^{+11}\\\\\\end{array}\\right)\\end{equation*}"
      ],
      "text/plain": [
       "Quantum object: dims = [[2, 2, 2, 2, 2, 2, 2, 2, 2, 2, 2, 2, 2, 2, 2], [2, 2, 2, 2, 2, 2, 2, 2, 2, 2, 2, 2, 2, 2, 2]], shape = (32768, 32768), type = oper, isherm = True\n",
       "Qobj data =\n",
       "  (0, 0)\t(-126606183940+0j)\n",
       "  (0, 1)\t(4241150082.35+0j)\n",
       "  (0, 2)\t(4241150082.35+0j)\n",
       "  (0, 4)\t(4241150082.35+0j)\n",
       "  (0, 8)\t(4241150082.35+0j)\n",
       "  (0, 16)\t(4241150082.35+0j)\n",
       "  (0, 32)\t(4241150082.35+0j)\n",
       "  (0, 64)\t(4241150082.35+0j)\n",
       "  (0, 128)\t(4241150082.35+0j)\n",
       "  (0, 256)\t(4241150082.35+0j)\n",
       "  (0, 512)\t(4241150082.35+0j)\n",
       "  (0, 1024)\t(4241150082.35+0j)\n",
       "  (0, 2048)\t(4241150082.35+0j)\n",
       "  (0, 4096)\t(4241150082.35+0j)\n",
       "  (0, 8192)\t(4241150082.35+0j)\n",
       "  (0, 16384)\t(4241150082.35+0j)\n",
       "  (1, 0)\t(4241150082.35+0j)\n",
       "  (1, 1)\t(-110269902141+0j)\n",
       "  (1, 3)\t(4241150082.35+0j)\n",
       "  (1, 5)\t(4241150082.35+0j)\n",
       "  (1, 9)\t(4241150082.35+0j)\n",
       "  (1, 17)\t(4241150082.35+0j)\n",
       "  (1, 33)\t(4241150082.35+0j)\n",
       "  (1, 65)\t(4241150082.35+0j)\n",
       "  (1, 129)\t(4241150082.35+0j)\n",
       "  :\t:\n",
       "  (32766, 32638)\t(4241150082.35+0j)\n",
       "  (32766, 32702)\t(4241150082.35+0j)\n",
       "  (32766, 32734)\t(4241150082.35+0j)\n",
       "  (32766, 32750)\t(4241150082.35+0j)\n",
       "  (32766, 32758)\t(4241150082.35+0j)\n",
       "  (32766, 32762)\t(4241150082.35+0j)\n",
       "  (32766, 32764)\t(4241150082.35+0j)\n",
       "  (32766, 32766)\t(-110269902141+0j)\n",
       "  (32766, 32767)\t(4241150082.35+0j)\n",
       "  (32767, 16383)\t(4241150082.35+0j)\n",
       "  (32767, 24575)\t(4241150082.35+0j)\n",
       "  (32767, 28671)\t(4241150082.35+0j)\n",
       "  (32767, 30719)\t(4241150082.35+0j)\n",
       "  (32767, 31743)\t(4241150082.35+0j)\n",
       "  (32767, 32255)\t(4241150082.35+0j)\n",
       "  (32767, 32511)\t(4241150082.35+0j)\n",
       "  (32767, 32639)\t(4241150082.35+0j)\n",
       "  (32767, 32703)\t(4241150082.35+0j)\n",
       "  (32767, 32735)\t(4241150082.35+0j)\n",
       "  (32767, 32751)\t(4241150082.35+0j)\n",
       "  (32767, 32759)\t(4241150082.35+0j)\n",
       "  (32767, 32763)\t(4241150082.35+0j)\n",
       "  (32767, 32765)\t(4241150082.35+0j)\n",
       "  (32767, 32766)\t(4241150082.35+0j)\n",
       "  (32767, 32767)\t(-126606183940+0j)"
      ]
     },
     "execution_count": 81,
     "metadata": {},
     "output_type": "execute_result"
    }
   ],
   "source": [
    "# Redfield Timing\n",
    "import time\n",
    "\n",
    "start = time.time()\n",
    "H = dWaveHamiltonian(0.5,.2,.3, 1, 15)\n",
    "end = time.time()\n",
    "\n",
    "print end-start\n",
    "H"
   ]
  },
  {
   "cell_type": "code",
   "execution_count": null,
   "metadata": {
    "collapsed": false
   },
   "outputs": [],
   "source": []
  },
  {
   "cell_type": "code",
   "execution_count": null,
   "metadata": {
    "collapsed": true
   },
   "outputs": [],
   "source": []
  }
 ],
 "metadata": {
  "kernelspec": {
   "display_name": "Python 2",
   "language": "python",
   "name": "python2"
  },
  "language_info": {
   "codemirror_mode": {
    "name": "ipython",
    "version": 2
   },
   "file_extension": ".py",
   "mimetype": "text/x-python",
   "name": "python",
   "nbconvert_exporter": "python",
   "pygments_lexer": "ipython2",
   "version": "2.7.13"
  }
 },
 "nbformat": 4,
 "nbformat_minor": 2
}
