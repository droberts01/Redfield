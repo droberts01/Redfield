{
 "cells": [
  {
   "cell_type": "code",
   "execution_count": 24,
   "metadata": {
    "collapsed": false
   },
   "outputs": [],
   "source": [
    "# REDFIELD.py: Time-Dependent Redfield Solver for D Wave Simulations\n",
    "\n",
    "from qutip import *\n",
    "import csv\n",
    "import numpy as np\n",
    "import matplotlib.pyplot as plt\n",
    "import pandas as pd\n",
    "\n",
    "# Parameters specific to the D Wave 2X onsite.\n",
    "ANNEALING_SCHEDULE = pd.read_csv('~/Documents/LANLA/DWaveAnnealingSchedule.csv', sep=',',header=None)\n",
    "ANNEALING_PARAMETER = ANNEALING_SCHEDULE[0]\n",
    "DRIVER_COEFFICIENT = [(10**9)*x for x in ANNEALING_SCHEDULE[1]]\n",
    "PROBLEM_COEFFICIENT = [(10**9)*x for x in ANNEALING_SCHEDULE[2]]\n",
    "\n",
    "ETA_MRT = 0.24\n",
    "\n",
    "# Fundamental Constants in SI Units\n",
    "KB = 1.38065 *(10**(-23))\n",
    "T = 15.5*(10**(-3))\n",
    "HBAR = 6.62607*(10**(-34))"
   ]
  },
  {
   "cell_type": "code",
   "execution_count": 21,
   "metadata": {
    "collapsed": false
   },
   "outputs": [],
   "source": [
    "#Define Pauli matrices. e.g. X(actingQubit) is the bit flip operator on actingQubit.\n",
    "\n",
    "def X(acting_qubit, num_qubits):\n",
    "    qubits = range(num_qubits)\n",
    "    if acting_qubit >= num_qubits:\n",
    "        print \"Error. Pauli matrix over-indexed\"\n",
    "    else:\n",
    "        def X_tensor(acting_qubit, qubit):\n",
    "            if qubit == acting_qubit:\n",
    "                return sigmax()\n",
    "            else: \n",
    "                return identity(2)\n",
    "        return tensor([X_tensor(acting_qubit, qubit) for qubit in qubits])\n",
    "\n",
    "def Y(acting_qubit, num_qubits):\n",
    "    qubits = range(num_qubits)\n",
    "    if acting_qubit >= num_qubits:\n",
    "        print \"Error. Pauli matrix over-indexed\"\n",
    "    else:\n",
    "        def Y_tensor(acting_qubit, qubit):\n",
    "            if qubit == acting_qubit:\n",
    "                return sigmay()\n",
    "            else: \n",
    "                return identity(2)\n",
    "        return tensor([Y_tensor(acting_qubit, qubit) for qubit in qubits])\n",
    "\n",
    "\n",
    "def Z(acting_qubit, num_qubits):\n",
    "    qubits = range(num_qubits)\n",
    "    if acting_qubit >= num_qubits:\n",
    "        print \"Error. Pauli matrix over-indexed\"\n",
    "    else:\n",
    "        def Z_tensor(acting_qubit, qubit):\n",
    "            if qubit == acting_qubit:\n",
    "                return sigmaz()\n",
    "            else: \n",
    "                return identity(2)\n",
    "        return tensor([Z_tensor(acting_qubit, qubit) for qubit in qubits])\n",
    "\n"
   ]
  },
  {
   "cell_type": "code",
   "execution_count": 22,
   "metadata": {
    "collapsed": false
   },
   "outputs": [],
   "source": [
    "#Define D Wave Hamiltonian\n",
    "def bulk_coupling(J, K, qubit_index, num_qubits):\n",
    "    if qubit_index >= num_qubits - 1:\n",
    "        print \"Error. coupler is over-indexed\"\n",
    "    else:\n",
    "        if num_qubits % 2 == 0:\n",
    "            if qubit_index in [num_qubits/2 - 1, num_qubits/2]:\n",
    "                return -J\n",
    "            else:\n",
    "                return -K\n",
    "        else:\n",
    "            if qubit_index in [num_qubits/2 - 1, num_qubits/2]:\n",
    "                return -J\n",
    "            else:\n",
    "                return -K\n",
    "               \n",
    "def d_wave_hamiltonian(s, I, J, K, num_qubits):\n",
    "    qubits = range(num_qubits)\n",
    "    s_rescaled = int(max(0, s*round(len(ANNEALING_PARAMETER)) - 1))\n",
    "    bulk_terms = sum([bulk_coupling(J, K, qubit, num_qubits)*Z(qubit, num_qubits)*Z(qubit + 1, num_qubits) for qubit in range(num_qubits - 1)])\n",
    "    boundary_term = I*Z(qubits[-1], num_qubits)*Z(qubits[0], num_qubits)\n",
    "    raw_problem_hamiltonian = bulk_terms + boundary_term\n",
    "    raw_driver_hamiltonian = sum([X(qubit, num_qubits) for qubit in qubits])\n",
    "    problem_hamiltonian = 2*np.pi*(PROBLEM_COEFFICIENT[s_rescaled]/2)*raw_problem_hamiltonian\n",
    "    driver_hamiltonian = 2*np.pi*(DRIVER_COEFFICIENT[s_rescaled]/2)*raw_driver_hamiltonian\n",
    "    return problem_hamiltonian + driver_hamiltonian\n",
    "                    \n",
    "# "
   ]
  },
  {
   "cell_type": "code",
   "execution_count": 23,
   "metadata": {
    "collapsed": false
   },
   "outputs": [
    {
     "name": "stdout",
     "output_type": "stream",
     "text": [
      "0.50786614418\n"
     ]
    }
   ],
   "source": [
    "# Redfield Timing\n",
    "import time\n",
    "\n",
    "start = time.time()\n",
    "H = d_wave_hamiltonian(0.5,.2,.3, 1, 15)\n",
    "end = time.time()\n",
    "\n",
    "print end-start"
   ]
  },
  {
   "cell_type": "code",
   "execution_count": 19,
   "metadata": {
    "collapsed": false
   },
   "outputs": [],
   "source": [
    "def eta(s):\n",
    "    s_rescaled = int(max(0, s*round(len(ANNEALING_PARAMETER)) - 1))\n",
    "    return ETA_MRT*(B[s_rescaled]/B[-1])\n",
    "\n",
    "\n",
    "# Spectral Density\n",
    "\n",
    "def S(s, omega): \n",
    "    numerator =  (hbar**2)*eta(s)*omega*np.exp(-np.abs(omega)*10**(-40))\n",
    "    denominator = 1-np.exp(-(HBAR*omega)/(KB*T))\n",
    "    return numerator/denominator\n",
    "\n",
    "def delta(i,j):\n",
    "    if i == j:\n",
    "        return 1\n",
    "    else:\n",
    "        return 0\n",
    "\n",
    "def O_tensor(O_matrix):\n",
    "    states = range(len(O_matrix[0]))\n",
    "    def O(s,i,j,k,l):\n",
    "        return delta(j,l)*delta(i,k)*O_matrix[s][i][j]\n",
    "    return [[[[[O(s,i,j,k,l) for l in states] for k in states] for j in states] for i in states] for s in ANNEALING_PARAMETER]\n",
    "\n",
    "def R_tensor(eigenvecs_Qobj, O_matrix, num_qubits):\n",
    "    states = range(len(eigenvecs_Qobj[0]))\n",
    "    qubits = range(num_qubits)\n",
    "    def C(s,i,j,k,l):\n",
    "        def Z_elt(s,mu,i,j):\n",
    "            Z(mu,num_qubits).matrix_element(eigenvecs_Qobj[s][i],eigenvecs_Qobj[s][j])\n",
    "        return sum([Z_elt(s,mu,i,k)*Z_elt(s,mu,j,l) for mu in qubits])\n",
    "    \n",
    "    C_tensor = [[[[[C(s,i,j,k,l) for l in states] for k in states] for j in states] for i in states] for s in ANNEALING_PARAMETER]\n",
    "    \n",
    "    def gamma_plus(s,i,j,k,l):\n",
    "        return S(-O_matrix[s][k][l])*C_tensor[s][i][j][k][l]\n",
    "    def gamma_minus(s,i,j,k,l):\n",
    "        return S(O_matrix[s][i][j])*C_tensor[s][i][j][k][l]\n",
    "\n",
    "    def R1(s,i,j,k,l):\n",
    "        return sum([delta(j,l)*gamma_plus(s,i,k,n,n) for n in range(2**num_qubits)])\n",
    "\n",
    "    def R2(s,i,j,k,l):\n",
    "        return sum([delta(j,l)*gamma_plus(s,i,k,n,n) for n in range(2**num_qubits)])\n",
    "\n",
    "    def R3(s,i,j,k,l):\n",
    "        return gamma_plus(s,i,j,k,l)\n",
    "\n",
    "    def R4(s,i,j,k,l):\n",
    "        return gamma_minus(s,i,j,k,l)\n",
    "    \n",
    "    R1_tensor = [[[[[R1(s,i,j,k,l) for l in states] for k in states] for j in states] for i in states] for s in ANNEALING_PARAMETER]\n",
    "    R2_tensor = [[[[[R2(s,i,j,k,l) for l in states] for k in states] for j in states] for i in states] for s in ANNEALING_PARAMETER]\n",
    "    R3_tensor = [[[[[R3(s,i,j,k,l) for l in states] for k in states] for j in states] for i in states] for s in ANNEALING_PARAMETER]\n",
    "    R4_tensor = [[[[[R4(s,i,j,k,l) for l in states] for k in states] for j in states] for i in states] for s in ANNEALING_PARAMETER]\n",
    "    \n",
    "    return R1_tensor + R2_tensor - R3_tensor - R4_tensor\n",
    "\n",
    "\n",
    "def M_tensor(eigenvecs_Qobj, num_qubits, ANNEALING_TIME):\n",
    "    states = range(len(eigenvecs_Qobj[0]))\n",
    "    TIME_STEP = ANNEALING_TIME*(ANNEALING_PARAMETER[1]-ANNEALING_PARAMETER[0])\n",
    "    def basis_dragging_term(s,i,j):\n",
    "        bra = eigenvecs_Qobj[s + 1][i] + eigenvecs_Qobj[s - 1][i]\n",
    "        ket = eigenvecs_Qobj[s + 1][i] - eigenvecs_Qobj[s - 1][i]\n",
    "        return identity(2**num_qubits).matrix_element(bra, ket)/(4*TIME_STEP)\n",
    "    \n",
    "    def M(s,i,j,k,l):\n",
    "        if s == 0 or s == len(ANNEALING_PARAMETER)-1:\n",
    "            return 0\n",
    "        else:\n",
    "            return delta(i,k)*basis_dragging_term(s,l,j) + delta(j,l)*basis_dragging_term(s,i,k)\n",
    "    return [[[[[M(s,i,j,k,l) for l in states] for k in states] for j in states] for i in states] for s in ANNEALING_PARAMETER]\n",
    "\n",
    "def linbladian(eigenvecs_Qobj, num_qubits, ANNEALING_TIME)\n"
   ]
  },
  {
   "cell_type": "code",
   "execution_count": 27,
   "metadata": {
    "collapsed": false
   },
   "outputs": [
    {
     "data": {
      "text/plain": [
       "(11+0j)"
      ]
     },
     "execution_count": 27,
     "metadata": {},
     "output_type": "execute_result"
    }
   ],
   "source": [
    "identity(2).matrix_element(Qobj([[1],[2]]),Qobj([[3],[4]]))"
   ]
  },
  {
   "cell_type": "code",
   "execution_count": null,
   "metadata": {
    "collapsed": true
   },
   "outputs": [],
   "source": []
  }
 ],
 "metadata": {
  "kernelspec": {
   "display_name": "Python 2",
   "language": "python",
   "name": "python2"
  },
  "language_info": {
   "codemirror_mode": {
    "name": "ipython",
    "version": 2
   },
   "file_extension": ".py",
   "mimetype": "text/x-python",
   "name": "python",
   "nbconvert_exporter": "python",
   "pygments_lexer": "ipython2",
   "version": "2.7.13"
  }
 },
 "nbformat": 4,
 "nbformat_minor": 2
}
