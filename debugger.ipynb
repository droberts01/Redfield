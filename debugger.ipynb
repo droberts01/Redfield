{
 "cells": [
  {
   "cell_type": "code",
   "execution_count": 15,
   "metadata": {
    "collapsed": false
   },
   "outputs": [
    {
     "name": "stdout",
     "output_type": "stream",
     "text": [
      "computing hamiltonians...\n",
      "computed hamiltonians in 0.0134408473969 seconds.\n",
      "computing redfield tensors...\n",
      "unpacking redfield output...\n",
      "computed redfield tensors in 3.85957479477 seconds.\n",
      "truncacting eigenstates...\n",
      "computing diabatic tensors...\n",
      "computed diabatic tensors in 0.267457962036 seconds.\n",
      "constructing Linblads...\n",
      "done.\n"
     ]
    }
   ],
   "source": [
    "# Standard Modules:\n",
    "from qutip import *\n",
    "import numpy as np\n",
    "\n",
    "# Custom Modules:\n",
    "import parameters\n",
    "import redfield\n",
    "import primitive\n",
    "import helper\n",
    "import time\n",
    "\n",
    "# Load parameters\n",
    "list_of_s = parameters.S_VALUES\n",
    "list_of_t = parameters.LIST_OF_TIMES\n",
    "\n",
    "\n",
    "globalstart = time.time()\n",
    "\n",
    "# Program runs here:\n",
    "print (\"computing hamiltonians...\")\n",
    "start = time.time() \n",
    "list_of_hamiltonians_Qobj = map(primitive.hamiltonian, list_of_s)\n",
    "list_of_hamiltonians = [np.real(hamiltonian.full()) for hamiltonian in list_of_hamiltonians_Qobj]\n",
    "end = time.time()\n",
    "print (\"computed hamiltonians in {} seconds.\".format(end-start))\n",
    "\n",
    "\n",
    "print (\"computing redfield tensors...\")\n",
    "start = time.time() \n",
    "list_of_redfield_output = map(redfield.compute_redfield_tensor, zip(list_of_s, list_of_hamiltonians_Qobj))\n",
    "print (\"unpacking redfield output...\")\n",
    "list_of_redfield_tensors, list_of_eigenstates = zip(*list_of_redfield_output)\n",
    "end = time.time()\n",
    "print (\"computed redfield tensors in {} seconds.\".format(end-start))\n",
    "\n",
    "\n",
    "print (\"truncacting eigenstates...\")\n",
    "list_of_eigenstates = map(helper.truncate, list_of_eigenstates)\n",
    "start = time.time() \n",
    "print (\"computing diabatic tensors...\")\n",
    "list_of_diabatic_tensors = redfield.compute_diabatic_tensors(list_of_eigenstates)\n",
    "end = time.time()\n",
    "print (\"computed diabatic tensors in {} seconds.\".format(end-start))\n",
    "\n",
    "\n",
    "print (\"constructing Linblads...\")\n",
    "list_of_linblads =  map(helper.get_sum_tensors, zip(list_of_redfield_tensors, list_of_diabatic_tensors))\n",
    "print (\"done.\")"
   ]
  },
  {
   "cell_type": "code",
   "execution_count": 19,
   "metadata": {
    "collapsed": false
   },
   "outputs": [],
   "source": [
    "linblad = list_of_linblads[0]"
   ]
  },
  {
   "cell_type": "code",
   "execution_count": 20,
   "metadata": {
    "collapsed": false
   },
   "outputs": [
    {
     "ename": "TypeError",
     "evalue": "'int' object is not iterable",
     "output_type": "error",
     "traceback": [
      "\u001b[0;31m---------------------------------------------------------------------------\u001b[0m",
      "\u001b[0;31mTypeError\u001b[0m                                 Traceback (most recent call last)",
      "\u001b[0;32m<ipython-input-20-148f5234516c>\u001b[0m in \u001b[0;36m<module>\u001b[0;34m()\u001b[0m\n\u001b[0;32m----> 1\u001b[0;31m \u001b[0mcompact_linblad\u001b[0m \u001b[0;34m=\u001b[0m \u001b[0mhelper\u001b[0m\u001b[0;34m.\u001b[0m\u001b[0mget_compact_compact_tensor_from_tensor\u001b[0m\u001b[0;34m(\u001b[0m\u001b[0mlinblad\u001b[0m\u001b[0;34m)\u001b[0m\u001b[0;34m\u001b[0m\u001b[0m\n\u001b[0m",
      "\u001b[0;32m/Users/Droberts/Documents/LANLA/Redfield/helper.pyc\u001b[0m in \u001b[0;36mget_compact_compact_tensor_from_tensor\u001b[0;34m(tensor)\u001b[0m\n\u001b[1;32m    122\u001b[0m         \u001b[0mk\u001b[0m\u001b[0;34m,\u001b[0m\u001b[0ml\u001b[0m \u001b[0;34m=\u001b[0m \u001b[0mdivmod\u001b[0m\u001b[0;34m(\u001b[0m\u001b[0mremainder\u001b[0m\u001b[0;34m,\u001b[0m \u001b[0mnum_eigenstates\u001b[0m\u001b[0;34m)\u001b[0m\u001b[0;34m\u001b[0m\u001b[0m\n\u001b[1;32m    123\u001b[0m         \u001b[0;32mreturn\u001b[0m \u001b[0mcomponents\u001b[0m\u001b[0;34m(\u001b[0m\u001b[0;34m[\u001b[0m\u001b[0mi\u001b[0m\u001b[0;34m,\u001b[0m \u001b[0mj\u001b[0m\u001b[0;34m,\u001b[0m \u001b[0mk\u001b[0m\u001b[0;34m,\u001b[0m \u001b[0ml\u001b[0m\u001b[0;34m]\u001b[0m\u001b[0;34m)\u001b[0m\u001b[0;34m\u001b[0m\u001b[0m\n\u001b[0;32m--> 124\u001b[0;31m     \u001b[0;32mreturn\u001b[0m \u001b[0mCompact_Compact_Tensor\u001b[0m\u001b[0;34m(\u001b[0m\u001b[0mcomponents\u001b[0m\u001b[0;34m)\u001b[0m\u001b[0;34m\u001b[0m\u001b[0m\n\u001b[0m\u001b[1;32m    125\u001b[0m \u001b[0;34m\u001b[0m\u001b[0m\n\u001b[1;32m    126\u001b[0m \u001b[0;34m\u001b[0m\u001b[0m\n",
      "\u001b[0;32m/Users/Droberts/Documents/LANLA/Redfield/helper.pyc\u001b[0m in \u001b[0;36m__init__\u001b[0;34m(self, components)\u001b[0m\n\u001b[1;32m     62\u001b[0m \u001b[0;32mclass\u001b[0m \u001b[0mCompact_Compact_Tensor\u001b[0m\u001b[0;34m:\u001b[0m\u001b[0;34m\u001b[0m\u001b[0m\n\u001b[1;32m     63\u001b[0m     \u001b[0;32mdef\u001b[0m \u001b[0m__init__\u001b[0m\u001b[0;34m(\u001b[0m\u001b[0mself\u001b[0m\u001b[0;34m,\u001b[0m \u001b[0mcomponents\u001b[0m\u001b[0;34m)\u001b[0m\u001b[0;34m:\u001b[0m\u001b[0;34m\u001b[0m\u001b[0m\n\u001b[0;32m---> 64\u001b[0;31m         \u001b[0mself\u001b[0m\u001b[0;34m.\u001b[0m\u001b[0marray\u001b[0m \u001b[0;34m=\u001b[0m \u001b[0mnp\u001b[0m\u001b[0;34m.\u001b[0m\u001b[0marray\u001b[0m\u001b[0;34m(\u001b[0m\u001b[0;34m[\u001b[0m\u001b[0mcomponents\u001b[0m\u001b[0;34m(\u001b[0m\u001b[0mI\u001b[0m\u001b[0;34m)\u001b[0m \u001b[0;32mfor\u001b[0m \u001b[0mI\u001b[0m \u001b[0;32min\u001b[0m \u001b[0mcompact_compact_eigenstates\u001b[0m\u001b[0;34m]\u001b[0m\u001b[0;34m)\u001b[0m\u001b[0;34m\u001b[0m\u001b[0m\n\u001b[0m\u001b[1;32m     65\u001b[0m         \u001b[0mself\u001b[0m\u001b[0;34m.\u001b[0m\u001b[0mcomponents\u001b[0m \u001b[0;34m=\u001b[0m \u001b[0mcomponents\u001b[0m\u001b[0;34m\u001b[0m\u001b[0m\n\u001b[1;32m     66\u001b[0m \u001b[0;34m\u001b[0m\u001b[0m\n",
      "\u001b[0;32m/Users/Droberts/Documents/LANLA/Redfield/helper.pyc\u001b[0m in \u001b[0;36msum_of_functions\u001b[0;34m(inputs)\u001b[0m\n\u001b[1;32m     77\u001b[0m \u001b[0;32mdef\u001b[0m \u001b[0mget_sum_of_functions\u001b[0m\u001b[0;34m(\u001b[0m\u001b[0mlist_of_functions\u001b[0m\u001b[0;34m)\u001b[0m\u001b[0;34m:\u001b[0m\u001b[0;34m\u001b[0m\u001b[0m\n\u001b[1;32m     78\u001b[0m      \u001b[0;32mdef\u001b[0m \u001b[0msum_of_functions\u001b[0m\u001b[0;34m(\u001b[0m\u001b[0minputs\u001b[0m\u001b[0;34m)\u001b[0m\u001b[0;34m:\u001b[0m\u001b[0;34m\u001b[0m\u001b[0m\n\u001b[0;32m---> 79\u001b[0;31m          \u001b[0moutputs\u001b[0m \u001b[0;34m=\u001b[0m \u001b[0;34m[\u001b[0m\u001b[0mfunction\u001b[0m\u001b[0;34m(\u001b[0m\u001b[0minputs\u001b[0m\u001b[0;34m)\u001b[0m \u001b[0;32mfor\u001b[0m \u001b[0mfunction\u001b[0m \u001b[0;32min\u001b[0m \u001b[0mlist_of_functions\u001b[0m\u001b[0;34m]\u001b[0m\u001b[0;34m\u001b[0m\u001b[0m\n\u001b[0m\u001b[1;32m     80\u001b[0m          \u001b[0msum_outputs\u001b[0m \u001b[0;34m=\u001b[0m \u001b[0msum\u001b[0m\u001b[0;34m(\u001b[0m\u001b[0moutputs\u001b[0m\u001b[0;34m)\u001b[0m\u001b[0;34m\u001b[0m\u001b[0m\n\u001b[1;32m     81\u001b[0m          \u001b[0;32mreturn\u001b[0m \u001b[0msum_outputs\u001b[0m\u001b[0;34m\u001b[0m\u001b[0m\n",
      "\u001b[0;32m/Users/Droberts/Documents/LANLA/Redfield/helper.pyc\u001b[0m in \u001b[0;36mcomponents\u001b[0;34m(multi_index)\u001b[0m\n\u001b[1;32m    107\u001b[0m     \u001b[0mcompact_components\u001b[0m \u001b[0;34m=\u001b[0m \u001b[0mcompact_tensor\u001b[0m\u001b[0;34m.\u001b[0m\u001b[0mcomponents\u001b[0m\u001b[0;34m\u001b[0m\u001b[0m\n\u001b[1;32m    108\u001b[0m     \u001b[0;32mdef\u001b[0m \u001b[0mcomponents\u001b[0m\u001b[0;34m(\u001b[0m\u001b[0mmulti_index\u001b[0m\u001b[0;34m)\u001b[0m\u001b[0;34m:\u001b[0m\u001b[0;34m\u001b[0m\u001b[0m\n\u001b[0;32m--> 109\u001b[0;31m         \u001b[0mi\u001b[0m\u001b[0;34m,\u001b[0m \u001b[0mj\u001b[0m\u001b[0;34m,\u001b[0m \u001b[0mk\u001b[0m\u001b[0;34m,\u001b[0m \u001b[0ml\u001b[0m \u001b[0;34m=\u001b[0m \u001b[0mmulti_index\u001b[0m\u001b[0;34m\u001b[0m\u001b[0m\n\u001b[0m\u001b[1;32m    110\u001b[0m         \u001b[0mI\u001b[0m \u001b[0;34m=\u001b[0m \u001b[0mnum_eigenstates\u001b[0m \u001b[0;34m*\u001b[0m \u001b[0mi\u001b[0m \u001b[0;34m+\u001b[0m \u001b[0mj\u001b[0m\u001b[0;34m\u001b[0m\u001b[0m\n\u001b[1;32m    111\u001b[0m         \u001b[0mJ\u001b[0m \u001b[0;34m=\u001b[0m \u001b[0mnum_eigenstates\u001b[0m \u001b[0;34m*\u001b[0m \u001b[0mk\u001b[0m \u001b[0;34m+\u001b[0m \u001b[0ml\u001b[0m\u001b[0;34m\u001b[0m\u001b[0m\n",
      "\u001b[0;31mTypeError\u001b[0m: 'int' object is not iterable"
     ]
    }
   ],
   "source": [
    "compact_linblad = helper.get_compact_compact_tensor_from_tensor(linblad)"
   ]
  },
  {
   "cell_type": "code",
   "execution_count": null,
   "metadata": {
    "collapsed": true
   },
   "outputs": [],
   "source": []
  }
 ],
 "metadata": {
  "kernelspec": {
   "display_name": "Python 2",
   "language": "python",
   "name": "python2"
  },
  "language_info": {
   "codemirror_mode": {
    "name": "ipython",
    "version": 2
   },
   "file_extension": ".py",
   "mimetype": "text/x-python",
   "name": "python",
   "nbconvert_exporter": "python",
   "pygments_lexer": "ipython2",
   "version": "2.7.13"
  }
 },
 "nbformat": 4,
 "nbformat_minor": 2
}
