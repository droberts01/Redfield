{
 "cells": [
  {
   "cell_type": "code",
   "execution_count": 1,
   "metadata": {
    "collapsed": true
   },
   "outputs": [],
   "source": [
    "import meta\n",
    "import numpy as np\n",
    "from bisect import bisect\n",
    "from scipy import linalg\n",
    "from functools import partial\n",
    "from meta_functions import td_bath_coupling\n",
    "#---------------\n",
    "# analysis.py \n",
    "# Provides functions for analysis of\n",
    "# the Redfield quantum master equation and its solution.\n",
    "# import jtplot submodule from jupyterthemes\n",
    "from jupyterthemes import jtplot\n",
    "\n",
    "# currently installed theme will be used to\n",
    "# set plot style if no arguments provided\n",
    "jtplot.style()\n",
    "import matplotlib.pyplot as plt\n"
   ]
  },
  {
   "cell_type": "code",
   "execution_count": 9,
   "metadata": {},
   "outputs": [
    {
     "ename": "SyntaxError",
     "evalue": "invalid syntax (<ipython-input-9-caedb7b303ac>, line 18)",
     "output_type": "error",
     "traceback": [
      "\u001b[0;36m  File \u001b[0;32m\"<ipython-input-9-caedb7b303ac>\"\u001b[0;36m, line \u001b[0;32m18\u001b[0m\n\u001b[0;31m    return num / den\u001b[0m\n\u001b[0m         ^\u001b[0m\n\u001b[0;31mSyntaxError\u001b[0m\u001b[0;31m:\u001b[0m invalid syntax\n"
     ]
    }
   ],
   "source": [
    "def S(sval, LF_noise):\n",
    "\tdef S_func_HF(w):\n",
    "\t\tif abs(w) > meta.BATH_CUTOFF_FREQ:\n",
    "\t\t\treturn 0.0\n",
    "\t\telif w != 0:\n",
    "\t\t\tnum = td_bath_coupling(sval) * w\n",
    "\t\t\tden = 1 - np.exp(-meta.BETA * w)\n",
    "\t\t\treturn num / den\n",
    "\t\telse:\n",
    "\t\t\treturn td_bath_coupling(sval) / meta.BETA\n",
    "\n",
    "\tdef S_func_LF(w):\n",
    "\t\tif abs(w) > meta.BATH_CUTOFF_FREQ:\n",
    "\t\t\treturn 0.0\n",
    "\t\telif w != 0:\n",
    "\t\t\tnum = meta.BETA * (meta.LF_BATH_COUPLING)**2 * 4 * (meta.PERSISTENT_CURRENT)**2\n",
    "\t\t\tden = meta.HBAR**2 * (1 - np.exp(-meta.BETA * np.abs(w)))\n",
    "\t\t\treturn num / den\n",
    "\t\telse:\n",
    "\t\t\treturn td_bath_coupling(sval) / meta.BETA\n",
    "\n",
    "\tif not LF_noise:\n",
    "\t\tdef S_func(w):\n",
    "\t\t\treturn S_func_HF(w)\n",
    "\telif LF_noise:\n",
    "\t\tdef S_func(w):\n",
    "\t\t\treturn S_func_LF(w) + S_func_HF(w)\n",
    "\treturn S_func"
   ]
  },
  {
   "cell_type": "code",
   "execution_count": 3,
   "metadata": {
    "collapsed": true
   },
   "outputs": [],
   "source": [
    "f = S(1, 1)"
   ]
  },
  {
   "cell_type": "code",
   "execution_count": 8,
   "metadata": {},
   "outputs": [
    {
     "data": {
      "image/png": "[encoded data removed]",
      "text/plain": [
       "<matplotlib.figure.Figure at 0x11774a3d0>"
      ]
     },
     "metadata": {},
     "output_type": "display_data"
    }
   ],
   "source": [
    "x = np.arange(-10**4, 10**4, 10**2)\n",
    "y = map(f, x)\n",
    "\n",
    "plt.plot(x, y)\n",
    "plt.show()"
   ]
  },
  {
   "cell_type": "code",
   "execution_count": null,
   "metadata": {
    "collapsed": true
   },
   "outputs": [],
   "source": []
  }
 ],
 "metadata": {
  "kernelspec": {
   "display_name": "Python 2",
   "language": "python",
   "name": "python2"
  },
  "language_info": {
   "codemirror_mode": {
    "name": "ipython",
    "version": 2
   },
   "file_extension": ".py",
   "mimetype": "text/x-python",
   "name": "python",
   "nbconvert_exporter": "python",
   "pygments_lexer": "ipython2",
   "version": "2.7.13"
  }
 },
 "nbformat": 4,
 "nbformat_minor": 2
}
