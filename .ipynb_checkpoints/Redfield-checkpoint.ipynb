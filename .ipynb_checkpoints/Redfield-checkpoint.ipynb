{
 "cells": [
  {
   "cell_type": "code",
   "execution_count": 83,
   "metadata": {
    "collapsed": false
   },
   "outputs": [],
   "source": [
    "# REDFIELD.py: Time-Dependent Redfield Solver for D Wave Simulations\n",
    "\n",
    "from qutip import *\n",
    "import csv\n",
    "import numpy as np\n",
    "import matplotlib.pyplot as plt\n",
    "import pandas as pd\n",
    "\n",
    "# Parameters specific to the D Wave 2X onsite.\n",
    "dWaveAnnealingSchedule = pd.read_csv('~/Documents/LANLA/DWaveAnnealingSchedule.csv', sep=',',header=None)\n",
    "annealingParameter = dWaveAnnealingSchedule[0]\n",
    "A = [(10**9)*x for x in dWaveAnnealingSchedule[1]]\n",
    "B = [(10**9)*x for x in dWaveAnnealingSchedule[2]]\n",
    "\n",
    "# Fundamental Constants in SI Units\n",
    "kB = 1.38065 *(10**(-23))\n",
    "T = 15.5*(10**(-3))\n",
    "hbar = 6.62607*(10**(-34))"
   ]
  },
  {
   "cell_type": "code",
   "execution_count": 32,
   "metadata": {
    "collapsed": false
   },
   "outputs": [],
   "source": [
    "#Define Pauli matrices. e.g. X(actingQubit) is the bit flip operator on actingQubit.\n",
    "\n",
    "def X(actingQubit, numQubits):\n",
    "    qubits = range(numQubits)\n",
    "    if actingQubit >= numQubits:\n",
    "        print \"Error. Pauli matrix over-indexed\"\n",
    "    else:\n",
    "        def XTensor(actingQubit, qubit):\n",
    "            if qubit == actingQubit:\n",
    "                return sigmax()\n",
    "            else: \n",
    "                return identity(2)\n",
    "        return tensor([XTensor(actingQubit, qubit) for qubit in qubits])\n",
    "\n",
    "def Y(actingQubit, numQubits):\n",
    "    qubits = range(numQubits)\n",
    "    if actingQubit >= numQubits:\n",
    "        print \"Error. Pauli matrix over-indexed\"\n",
    "    else:\n",
    "        def YTensor(actingQubit, qubit):\n",
    "            if qubit == actingQubit:\n",
    "                return sigmay()\n",
    "            else: \n",
    "                return identity(2)\n",
    "        return tensor([YTensor(actingQubit, qubit) for qubit in qubits])\n",
    "\n",
    "def Z(actingQubit, numQubits):\n",
    "    qubits = range(numQubits)\n",
    "    if actingQubit >= numQubits:\n",
    "        print \"Error. Pauli matrix over-indexed\"\n",
    "    else:\n",
    "        def ZTensor(actingQubit, qubit):\n",
    "            if qubit == actingQubit:\n",
    "                return sigmaz()\n",
    "            else: \n",
    "                return identity(2)\n",
    "        return tensor([ZTensor(actingQubit, qubit) for qubit in qubits])"
   ]
  },
  {
   "cell_type": "code",
   "execution_count": 54,
   "metadata": {
    "collapsed": false
   },
   "outputs": [],
   "source": [
    "#Define D Wave Hamiltonian\n",
    "def bulkCoupling(J, K, qubitIndex, numQubits):\n",
    "    if qubitIndex >= numQubits - 1:\n",
    "        print \"Error. coupler is over-indexed\"\n",
    "    else:\n",
    "        if numQubits % 2 == 0:\n",
    "            if qubitIndex in [numQubits/2 - 1, numQubits/2]:\n",
    "                return -J\n",
    "            else:\n",
    "                return -K\n",
    "        else:\n",
    "            if qubitIndex in [numQubits/2 - 1, numQubits/2]:\n",
    "                return -J\n",
    "            else:\n",
    "                return -K\n",
    "               \n",
    "def dWaveHamiltonian(s, I, J, K, numQubits):\n",
    "    qubits = range(numQubits)\n",
    "    sRescaled = int(max(0, s*round(len(annealingParameter)) - 1))\n",
    "    bulkTerms = sum([bulkCoupling(J, K, qubit, numQubits)*Z(qubit, numQubits)*Z(qubit + 1, numQubits) for qubit in range(numQubits - 1)])\n",
    "    boundaryTerm = I*Z(qubits[-1], numQubits)*Z(qubits[0], numQubits)\n",
    "    rawProblemHamiltonian = bulkTerms + boundaryTerm\n",
    "    rawDriverHamiltonian = sum([X(qubit, numQubits) for qubit in qubits])\n",
    "    problemHamiltonian = 2*np.pi*(B[sRescaled]/2)*rawProblemHamiltonian\n",
    "    driverHamiltonian = 2*np.pi*(A[sRescaled]/2)*rawDriverHamiltonian\n",
    "    return problemHamiltonian + driverHamiltonian\n",
    "                    \n",
    "# "
   ]
  },
  {
   "cell_type": "code",
   "execution_count": 84,
   "metadata": {
    "collapsed": false
   },
   "outputs": [
    {
     "name": "stdout",
     "output_type": "stream",
     "text": [
      "0.519181013107\n"
     ]
    }
   ],
   "source": [
    "# Redfield Timing\n",
    "import time\n",
    "\n",
    "start = time.time()\n",
    "H = dWaveHamiltonian(0.5,.2,.3, 1, 15)\n",
    "end = time.time()\n",
    "\n",
    "print end-start"
   ]
  },
  {
   "cell_type": "code",
   "execution_count": null,
   "metadata": {
    "collapsed": false
   },
   "outputs": [],
   "source": [
    "# Spectral Density\n",
    "def eta(s):\n",
    "    sRescaled = int(max(0, s*round(len(annealingParameter)) - 1))\n",
    "    etaMRT = 0.24\n",
    "    return etaMRT*(B[sRescaled]/B[-1])\n",
    "\n",
    "def S(s, omega): \n",
    "    numerator =  (hbar**2)*eta(s)*omega*np.exp(-np.abs(omega)*10**(-40))\n",
    "    denominator = 1-np.exp(-(hbar*omega)/(k*T))\n",
    "    return numerator/denominator\n",
    "\n",
    "def Eigensystem(s, I, J, K, numQubits):\n",
    "    H = \n",
    "\n",
    "    \n",
    "# Time-dependent Eigensystem"
   ]
  },
  {
   "cell_type": "code",
   "execution_count": null,
   "metadata": {
    "collapsed": true
   },
   "outputs": [],
   "source": []
  }
 ],
 "metadata": {
  "kernelspec": {
   "display_name": "Python 2",
   "language": "python",
   "name": "python2"
  },
  "language_info": {
   "codemirror_mode": {
    "name": "ipython",
    "version": 2
   },
   "file_extension": ".py",
   "mimetype": "text/x-python",
   "name": "python",
   "nbconvert_exporter": "python",
   "pygments_lexer": "ipython2",
   "version": "2.7.13"
  }
 },
 "nbformat": 4,
 "nbformat_minor": 2
}
