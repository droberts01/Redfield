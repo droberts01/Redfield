{
 "cells": [
  {
   "cell_type": "code",
   "execution_count": 103,
   "metadata": {
    "collapsed": false
   },
   "outputs": [],
   "source": [
    "# REDFIELD.py: Time-Dependent Redfield Solver for D Wave Simulations\n",
    "\n",
    "from qutip import *\n",
    "import csv\n",
    "import numpy as np\n",
    "import matplotlib.pyplot as plt\n",
    "import pandas as pd\n",
    "\n",
    "# Parameters specific to the D Wave 2X onsite.\n",
    "dWaveAnnealingSchedule = pd.read_csv('~/Documents/LANLA/DWaveAnnealingSchedule.csv', sep=',',header=None)\n",
    "annealingParameter = dWaveAnnealingSchedule[0]\n",
    "A = [(10**9)*x for x in dWaveAnnealingSchedule[1]]\n",
    "B = [(10**9)*x for x in dWaveAnnealingSchedule[2]]\n",
    "\n",
    "numQubits = 5\n",
    "qubits = range(numQubits)"
   ]
  },
  {
   "cell_type": "code",
   "execution_count": 80,
   "metadata": {
    "collapsed": false
   },
   "outputs": [],
   "source": [
    "def ZTensor(actingQubit, qubit):\n",
    "    if qubit == actingQubit:\n",
    "        return sigmax()\n",
    "    else: \n",
    "        return identity(2)\n",
    "\n",
    "def YTensor(actingQubit, qubit):\n",
    "    if qubit == actingQubit:\n",
    "        return sigmay()\n",
    "    else: \n",
    "        return identity(2)\n",
    "\n",
    "def ZTensor(actingQubit, qubit):\n",
    "    if qubit == actingQubit:\n",
    "        return sigmaz()\n",
    "    else: \n",
    "        return identity(2)\n",
    "    \n",
    "#Define Pauli matrices. e.g. X(actingQubit) is the bit flip operator on actingQubit.\n",
    "\n",
    "def X(actingQubit):\n",
    "    if actingQubit >= numQubits:\n",
    "        print \"Error. Pauli matrix over-indexed\"\n",
    "    else:\n",
    "        return tensor([XTensor(actingQubit, qubit) for qubit in qubits])\n",
    "\n",
    "def Y(actingQubit):\n",
    "    if actingQubit >= numQubits:\n",
    "        print \"Error. Pauli matrix over-indexed\"\n",
    "    else:\n",
    "        return tensor([YTensor(actingQubit, qubit) for qubit in qubits])\n",
    "\n",
    "def Z(actingQubit):\n",
    "    if actingQubit >= numQubits:\n",
    "        print \"Error. Pauli matrix over-indexed\"\n",
    "    else:\n",
    "        return tensor([ZTensor(actingQubit, qubit) for qubit in qubits])"
   ]
  },
  {
   "cell_type": "code",
   "execution_count": null,
   "metadata": {
    "collapsed": true
   },
   "outputs": [],
   "source": []
  },
  {
   "cell_type": "code",
   "execution_count": 153,
   "metadata": {
    "collapsed": false
   },
   "outputs": [],
   "source": [
    "#Define D Wave Hamiltonian\n",
    "def bulkCoupling(J, K, qubitIndex, numQubits):\n",
    "    if qubitIndex >= numQubits - 1:\n",
    "        print \"Error. coupler is over-indexed\"\n",
    "    else:\n",
    "        if numQubits % 2 == 0:\n",
    "            if qubitIndex in [numQubits/2 - 1, numQubits/2]:\n",
    "                return -J\n",
    "            else:\n",
    "                return -K\n",
    "        else:\n",
    "            if qubitIndex in [numQubits/2 - 1, numQubits/2]:\n",
    "                return -J\n",
    "            else:\n",
    "                return -K\n",
    "               \n",
    "def dWaveHamiltonian(s, I, J, K, numQubits):\n",
    "    sRescaled = int(max(0, s*round(len(annealingParameter)) - 1))\n",
    "    bulkTerms = sum([bulkCoupling(J, K, k, numQubits)*Z(k)*Z(k + 1) for k in range(numQubits - 1)])\n",
    "    boundaryTerm = I*Z(qubits[-1])*Z(qubits[0])\n",
    "    rawProblemHamiltonian = bulkTerms + boundaryTerm\n",
    "    rawDriverHamiltonian = sum([X(qubit) for qubit in qubits])\n",
    "    problemHamiltonian = 2*np.pi*(B[sRescaled]/2)*rawProblemHamiltonian\n",
    "    driverHamiltonian = 2*np.pi*(A[sRescaled]/2)*rawDriverHamiltonian\n",
    "    return problemHamiltonian + driverHamiltonian\n",
    "                    \n"
   ]
  },
  {
   "cell_type": "code",
   "execution_count": null,
   "metadata": {
    "collapsed": false
   },
   "outputs": [],
   "source": [
    "\n"
   ]
  },
  {
   "cell_type": "code",
   "execution_count": null,
   "metadata": {
    "collapsed": true
   },
   "outputs": [],
   "source": []
  }
 ],
 "metadata": {
  "kernelspec": {
   "display_name": "Python 2",
   "language": "python",
   "name": "python2"
  },
  "language_info": {
   "codemirror_mode": {
    "name": "ipython",
    "version": 2
   },
   "file_extension": ".py",
   "mimetype": "text/x-python",
   "name": "python",
   "nbconvert_exporter": "python",
   "pygments_lexer": "ipython2",
   "version": "2.7.13"
  }
 },
 "nbformat": 4,
 "nbformat_minor": 2
}
